{
 "cells": [
  {
   "cell_type": "code",
   "execution_count": 1,
   "metadata": {
    "collapsed": false
   },
   "outputs": [
    {
     "name": "stdout",
     "output_type": "stream",
     "text": [
      "Bus Line : B52 \n",
      "Number of active buses: 14\n",
      "Bus  0  is at latitude  40.687372  and longitude  -73.960081\n",
      "Bus  1  is at latitude  40.686955  and longitude  -73.944159\n",
      "Bus  2  is at latitude  40.686702  and longitude  -73.965881\n",
      "Bus  3  is at latitude  40.692486  and longitude  -73.990594\n",
      "Bus  4  is at latitude  40.691282  and longitude  -73.98691\n",
      "Bus  5  is at latitude  40.686912  and longitude  -73.944541\n",
      "Bus  6  is at latitude  40.687363  and longitude  -73.977055\n",
      "Bus  7  is at latitude  40.687196  and longitude  -73.942049\n",
      "Bus  8  is at latitude  40.689819  and longitude  -73.921745\n",
      "Bus  9  is at latitude  40.689808  and longitude  -73.98323\n",
      "Bus  10  is at latitude  40.692036  and longitude  -73.988808\n",
      "Bus  11  is at latitude  40.68817  and longitude  -73.93358\n",
      "Bus  12  is at latitude  40.693922  and longitude  -73.990411\n",
      "Bus  13  is at latitude  40.689475  and longitude  -73.92219\n"
     ]
    }
   ],
   "source": [
    "import json\n",
    "from __future__ import print_function\n",
    "\n",
    "try:\n",
    "    import urllib2 as urllib\n",
    "except ImportError:\n",
    "    import urllib.request as urllib\n",
    "import sys\n",
    "\n",
    "key=sys.argv[1]\n",
    "bus_line=sys.argv[2]\n",
    "if not len(sys.argv)==3:\n",
    "    print(\"Incorrect number of arguments. Enter the arguments as python file <python_file.py> <MTA Key> <BUS_LINE>\")\n",
    "    sys.exit()\n",
    "    \n",
    "#key=\"a8063bd1-d70c-4d9b-9946-4c6fa10243b4\"\n",
    "#bus_line = \"B52\"\n",
    "##This url connects MTA API server to the file\n",
    "url=\"http://bustime.mta.info/api/siri/vehicle-monitoring.json?key=\"+key+\"&VehicleMonitoringDetailLevel=calls&LineRef=\"+ bus_line\n",
    "##Opening JSON file and converting it to a dataframe\n",
    "#print (url)\n",
    "lib=urllib.urlopen(url)\n",
    "data=lib.read().decode('utf-8')\n",
    "data=json.loads(data)\n",
    "#data.keys\n",
    "##number of active buses\n",
    "count_active_buses = len(data['Siri']['ServiceDelivery']['VehicleMonitoringDelivery'][0]['VehicleActivity'])\n",
    "print('Bus Line :',bus_line, '\\nNumber of active buses:',count_active_buses)\n",
    "##Manipulating data for its current coordinates\n",
    "for i in range(count_active_buses):\n",
    "    location=data['Siri']['ServiceDelivery']['VehicleMonitoringDelivery'][0]['VehicleActivity'][i]['MonitoredVehicleJourney']['VehicleLocation']\n",
    "    print('Bus ',i,' is at latitude ',location['Latitude'],' and longitude ',location['Longitude'])"
   ]
  },
  {
   "cell_type": "code",
   "execution_count": null,
   "metadata": {
    "collapsed": true
   },
   "outputs": [],
   "source": []
  }
 ],
 "metadata": {
  "kernelspec": {
   "display_name": "Python 2",
   "language": "python",
   "name": "python2"
  },
  "language_info": {
   "codemirror_mode": {
    "name": "ipython",
    "version": 2
   },
   "file_extension": ".py",
   "mimetype": "text/x-python",
   "name": "python",
   "nbconvert_exporter": "python",
   "pygments_lexer": "ipython2",
   "version": "2.7.11"
  }
 },
 "nbformat": 4,
 "nbformat_minor": 0
}
