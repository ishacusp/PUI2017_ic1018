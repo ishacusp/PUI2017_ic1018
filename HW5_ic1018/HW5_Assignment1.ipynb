{
 "cells": [
  {
   "cell_type": "code",
   "execution_count": 1,
   "metadata": {
    "collapsed": false
   },
   "outputs": [
    {
     "name": "stdout",
     "output_type": "stream",
     "text": [
      "Populating the interactive namespace from numpy and matplotlib\n"
     ]
    }
   ],
   "source": [
    "import numpy as np\n",
    "import pylab as pl\n",
    "import pandas as pd\n",
    "import scipy.stats as st\n",
    "import scipy.optimize as opt\n",
    "\n",
    "%pylab inline"
   ]
  },
  {
   "cell_type": "code",
   "execution_count": 2,
   "metadata": {
    "collapsed": false
   },
   "outputs": [],
   "source": [
    "#Setting the mean and the standard deviation\n",
    "mymean = 200.0\n",
    "mystandarddeviation = 5\n",
    "size = 1000\n",
    "dist_size = 100\n",
    "\n",
    "#Generating N = 100 samples from Bionomial Distribution\n",
    "np.random.seed(10)\n",
    "binomial_dist = [ \n",
    "    st.binom.rvs(n = 200, p =0.5, size = size)\n",
    "    for i in range(dist_size)\n",
    "]"
   ]
  },
  {
   "cell_type": "code",
   "execution_count": 3,
   "metadata": {
    "collapsed": false
   },
   "outputs": [
    {
     "data": {
      "image/png": "[encoded data removed]",
      "text/plain": [
       "<matplotlib.figure.Figure at 0x7f31760a8e50>"
      ]
     },
     "metadata": {},
     "output_type": "display_data"
    }
   ],
   "source": [
    "#Flattening the distribution\n",
    "pl.hist(np.array(binomial_dist).flatten());\n",
    "plt.title('Binomial Distribution with n=200, p =0.5, $\\mu$ = 200 and $\\sigma$ = 5')\n",
    "\n",
    "plt.ylabel('Frequency of occurence')\n",
    "plt.show()"
   ]
  },
  {
   "cell_type": "markdown",
   "metadata": {},
   "source": [
    "Figure 1: Poisson distribution of 100 samples of size 1000 with n= 200, p = 0.5, $\\mu=200$ and $\\sigma=5$.\n"
   ]
  },
  {
   "cell_type": "code",
   "execution_count": 4,
   "metadata": {
    "collapsed": false
   },
   "outputs": [
    {
     "data": {
      "text/plain": [
       "array([101, 107,  96,  99,  93,  92, 100, 108, 104,  99,  95, 109,  99,\n",
       "       103, 106, 105,  99, 107,  95,  92, 104, 100,  97,  95,  94, 107,\n",
       "        93,  93, 114, 102,  97, 107, 101, 107,  93,  98,  93,  98, 100,\n",
       "       102,  86, 104, 100, 105, 100,  93,  98,  93, 103, 102, 109, 100,\n",
       "        98,  95, 100,  88, 116, 103, 102, 109,  91, 107,  86,  92,  91,\n",
       "       100, 103, 100, 105,  88,  88,  89, 110, 105, 101,  95,  99,  99,\n",
       "        92,  95,  94, 105,  82, 103,  98, 104,  95,  99,  86, 106, 100,\n",
       "       108,  89, 104, 101, 104, 100, 111, 103,  82, 111,  92,  97, 102,\n",
       "       104, 100, 103, 101,  95, 102, 106,  92, 103,  98, 112,  95,  97,\n",
       "       100,  91,  94, 105,  97,  93,  95,  93, 101, 102,  85,  92,  91,\n",
       "        99, 111,  99,  91, 105,  92, 101, 101, 112, 100, 101,  97,  99,\n",
       "        90,  95, 108, 104, 104,  98, 108, 102, 105,  88,  99, 109,  97,\n",
       "        90, 111, 100, 107,  96,  87, 105, 112,  96,  95, 104,  89,  96,\n",
       "       100,  88, 104, 101, 107, 104,  97,  92,  99, 102, 103,  96,  91,\n",
       "       106, 109, 109,  99, 115,  95, 112,  95, 101,  95, 101, 110, 110,\n",
       "        93,  96,  89,  96, 102,  87, 100, 103,  97, 104, 102, 104, 106,\n",
       "        94,  99,  94, 105,  92, 103, 100,  96, 107,  97, 110,  92, 107,\n",
       "       101, 111, 103,  97, 106,  90,  96, 103, 109, 109, 108, 100,  97,\n",
       "       104,  99, 107, 106,  97, 111, 102,  94,  98,  93, 102,  88, 106,\n",
       "        99, 101,  97,  90,  89,  98, 106,  92,  98, 102,  97, 104, 101,\n",
       "       105,  99,  95, 104,  94,  86, 100, 100,  95,  94,  87, 102,  97,\n",
       "        98, 103, 101, 102, 106, 112, 111,  96, 106,  93, 105, 111, 106,\n",
       "       101,  91,  93, 104, 107, 109, 101, 100, 108,  90,  98, 101, 101,\n",
       "       103,  96, 104,  97,  89,  91, 101,  93, 105, 101,  98,  96, 104,\n",
       "       100,  95, 102, 111,  93,  98, 106,  99,  97, 105, 107, 108, 106,\n",
       "       105,  99, 104,  91, 104, 111,  96, 103,  91, 105,  99, 102,  90,\n",
       "       101,  94,  92, 101, 101,  86,  96, 102,  97, 108, 100, 102,  90,\n",
       "        89, 102,  91, 108,  85, 100,  99,  93,  90,  99, 110, 104,  98,\n",
       "        94,  98,  91, 104,  96,  83,  90, 103, 107, 114, 100,  95,  97,\n",
       "       114,  86,  92,  93, 107, 113,  81, 101,  84, 107, 103,  98,  99,\n",
       "        92,  94, 106,  98,  98, 107, 104,  91, 100,  93, 107, 105, 102,\n",
       "        96, 104,  91, 102,  99, 104,  96, 103, 110, 101,  93, 109,  94,\n",
       "        87,  89, 101,  95, 102, 108, 100, 104,  99,  97,  91, 104,  89,\n",
       "       116,  91,  81, 107, 102, 101,  98, 113,  95, 101, 108,  98, 102,\n",
       "        93,  97, 104,  97, 106, 100,  96, 104, 102, 106,  96, 105,  97,\n",
       "       103,  99, 112, 102, 101,  91, 101, 101, 111,  87, 108, 102, 107,\n",
       "        93, 102, 105,  93,  94, 112,  89,  96,  98, 106,  97,  93,  99,\n",
       "       108, 105, 103,  97,  96, 100,  92,  94, 108, 111,  97,  96, 118,\n",
       "        95, 100, 103, 105,  97, 113, 100, 109,  95,  98, 101,  98, 110,\n",
       "       104, 110, 110,  97, 108,  95, 100, 104,  89, 102, 105, 110, 109,\n",
       "       101,  94, 100,  96, 109,  97,  98, 112,  94,  98,  81, 104, 108,\n",
       "       103,  97, 107, 107, 107,  97, 103, 102,  87,  91,  97, 100,  93,\n",
       "        98, 100, 113,  93,  97, 112,  84, 100, 136, 103, 100, 104, 116,\n",
       "        99,  95,  98,  89, 105,  93,  93, 109,  92,  94,  86, 101, 102,\n",
       "        96, 101, 101,  86,  95, 107,  98, 105, 104,  95, 104,  93,  99,\n",
       "        93, 108,  99, 101,  96, 104,  94,  95, 111, 103,  99,  94, 108,\n",
       "        85, 113,  99, 101, 105,  98, 109, 104,  99,  94, 109,  96, 109,\n",
       "       106, 109, 108, 110, 105, 110, 101,  95,  98,  99, 110, 103,  87,\n",
       "       110,  91,  97, 102,  96,  89,  86,  91, 104, 113,  98,  99,  90,\n",
       "       107,  91, 101, 101,  95, 102,  88,  91, 102, 107, 106, 109, 103,\n",
       "       104,  94, 101,  96, 104,  85,  99, 110, 103,  99, 114, 100, 111,\n",
       "       112,  98, 100, 103,  90, 106, 108, 110,  99,  90,  98,  95,  97,\n",
       "        97,  98,  93,  94, 107,  98, 108,  95, 114,  94, 107,  94, 110,\n",
       "        96, 108,  90,  94,  99, 109, 106,  86,  95,  88, 103, 104,  88,\n",
       "       105,  93,  94, 107, 106,  91,  87,  90,  96,  93,  94,  92,  93,\n",
       "       115,  98, 108,  93,  98, 111,  99,  89, 100,  99,  91,  90,  95,\n",
       "       112, 108, 108, 100, 104,  99, 104, 100,  85,  99, 102, 107,  94,\n",
       "       102,  99,  93, 102, 100, 102,  91, 112, 100,  96,  98,  97, 105,\n",
       "        93, 103, 113,  98,  99, 100, 102, 105,  90, 111, 105, 104, 100,\n",
       "       110,  92, 106, 104,  93,  85,  95,  93,  90, 103, 105,  94,  96,\n",
       "        95, 103,  97, 108, 101, 100, 103,  96,  83, 115, 108, 101,  91,\n",
       "        97,  87, 102, 105, 103,  94, 109, 110,  85, 108, 103,  92, 104,\n",
       "        95,  91, 102,  94, 100, 102, 107, 100, 104, 103,  92,  98,  93,\n",
       "       102, 104, 106, 105, 105, 104, 102, 112,  97, 106,  90,  96, 111,\n",
       "        90,  84,  96, 103, 102, 100, 102,  99,  99,  92, 104, 100, 100,\n",
       "        90,  96,  91,  96,  85,  97, 105, 107,  81,  96, 106, 108, 107,\n",
       "        98,  92, 107,  88, 111,  85,  96,  87, 104,  89,  93, 109, 108,\n",
       "        87,  96, 102,  94,  95,  94, 110, 101,  91, 109,  90,  93, 105,\n",
       "       107,  93,  96, 114, 101, 104,  88, 112, 107, 100,  99, 103,  97,\n",
       "       102,  94,  95, 103, 115,  94, 111,  92,  96,  96, 108,  99, 103,\n",
       "        93, 112, 100,  96,  99,  96, 100,  93,  98, 112,  87,  96,  96,\n",
       "       106, 103,  99,  83, 107, 118,  94,  97,  99, 102, 103, 109,  95,\n",
       "        92, 113,  94,  93, 109, 106, 109,  93, 114,  92, 102, 103,  91,\n",
       "       100, 101, 102, 104,  96,  98, 102,  88, 106, 100,  92, 106,  96,\n",
       "       101, 102, 106,  90, 104, 102, 103, 104, 116, 105,  96, 100, 104,\n",
       "       101,  91,  96, 101,  93,  99, 104, 111, 104,  96, 108,  97, 110,\n",
       "        91, 100,  99, 108, 104, 113,  97,  92, 114, 112, 102,  99])"
      ]
     },
     "execution_count": 4,
     "metadata": {},
     "output_type": "execute_result"
    }
   ],
   "source": [
    "binomial_dist[4]"
   ]
  },
  {
   "cell_type": "code",
   "execution_count": 5,
   "metadata": {
    "collapsed": false
   },
   "outputs": [
    {
     "data": {
      "text/plain": [
       "<matplotlib.text.Text at 0x7f316b33e150>"
      ]
     },
     "execution_count": 5,
     "metadata": {},
     "output_type": "execute_result"
    },
    {
     "data": {
      "image/png": "[encoded data removed]",
      "text/plain": [
       "<matplotlib.figure.Figure at 0x7f316b386610>"
      ]
     },
     "metadata": {},
     "output_type": "display_data"
    }
   ],
   "source": [
    "pl.hist(binomial_dist[4]);\n",
    "plt.title('Binomial Distribution of 1 sample of size = 1000, p =0.5, $\\mu$ = 200 and $\\sigma$ = 5')\n",
    "\n",
    "plt.ylabel('Frequency of occurence')"
   ]
  },
  {
   "cell_type": "markdown",
   "metadata": {},
   "source": [
    "Figure 2: Poisson distribution of 1 samples of size 1000 with p = 0.5, $\\mu=200$ and $\\sigma=5$."
   ]
  },
  {
   "cell_type": "code",
   "execution_count": 6,
   "metadata": {
    "collapsed": false
   },
   "outputs": [],
   "source": [
    "#Function calculaing z score\n",
    "def calculate_z(binom, mu = mymean, std = mystandarddeviation):\n",
    "    z = np.sqrt(len(binom))*(mu - binom.mean())/(std)\n",
    "    return z"
   ]
  },
  {
   "cell_type": "code",
   "execution_count": 7,
   "metadata": {
    "collapsed": false
   },
   "outputs": [
    {
     "data": {
      "text/plain": [
       "100"
      ]
     },
     "execution_count": 7,
     "metadata": {},
     "output_type": "execute_result"
    }
   ],
   "source": [
    "len(binomial_dist)"
   ]
  },
  {
   "cell_type": "code",
   "execution_count": 8,
   "metadata": {
    "collapsed": false
   },
   "outputs": [],
   "source": [
    "#calculating z score for each sample\n",
    "zstatistic = [calculate_z(i)for i in binomial_dist]\n",
    "   "
   ]
  },
  {
   "cell_type": "code",
   "execution_count": 9,
   "metadata": {
    "collapsed": false
   },
   "outputs": [
    {
     "data": {
      "text/plain": [
       "100"
      ]
     },
     "execution_count": 9,
     "metadata": {},
     "output_type": "execute_result"
    }
   ],
   "source": [
    "len(zstatistic)"
   ]
  },
  {
   "cell_type": "code",
   "execution_count": 10,
   "metadata": {
    "collapsed": false
   },
   "outputs": [
    {
     "data": {
      "image/png": "[encoded data removed]",
      "text/plain": [
       "<matplotlib.figure.Figure at 0x7f31692492d0>"
      ]
     },
     "metadata": {},
     "output_type": "display_data"
    }
   ],
   "source": [
    "pl.hist(zstatistic)\n",
    "plt.title('Distribution of z statistics for 100 Binomial Distributions')\n",
    "plt.xlabel('z statistic')\n",
    "plt.ylabel('frequency of occurence')\n",
    "plt.show()"
   ]
  },
  {
   "cell_type": "markdown",
   "metadata": {},
   "source": [
    "Figure 3: The distribution of z statistics from 100 Binomial distributions of size 1000 with $\\mu=200$ and $\\sigma=5$."
   ]
  },
  {
   "cell_type": "code",
   "execution_count": 11,
   "metadata": {
    "collapsed": false,
    "scrolled": true
   },
   "outputs": [
    {
     "data": {
      "text/plain": [
       "<matplotlib.text.Text at 0x7f3169287990>"
      ]
     },
     "execution_count": 11,
     "metadata": {},
     "output_type": "execute_result"
    },
    {
     "data": {
      "image/png": "[encoded data removed]",
      "text/plain": [
       "<matplotlib.figure.Figure at 0x7f3169142390>"
      ]
     },
     "metadata": {},
     "output_type": "display_data"
    }
   ],
   "source": [
    "#fit the z-statistics with a gaussian model \n",
    "(mean, sigma) = st.norm.fit(zstatistic)\n",
    "binvalue, bins, patches = pl.hist(zstatistic,20, normed=True)\n",
    "\n",
    "pl.plot(bins, mlab.normpdf(bins, mean, sigma),  'r', linewidth=2);\n",
    "plt.title('Distribution of z statistics against gaussian distribution')\n",
    "plt.xlabel('z statistic')\n",
    "plt.ylabel('frequency of occurence')\n"
   ]
  },
  {
   "cell_type": "markdown",
   "metadata": {},
   "source": [
    "Figure 4: The distribution of z scores from 1000 Binomial distributions of size 1000, against gaussian distribution."
   ]
  },
  {
   "cell_type": "code",
   "execution_count": 12,
   "metadata": {
    "collapsed": false
   },
   "outputs": [
    {
     "data": {
      "text/plain": [
       "AndersonResult(statistic=0.21579511073697688, critical_values=array([ 0.555,  0.632,  0.759,  0.885,  1.053]), significance_level=array([ 15. ,  10. ,   5. ,   2.5,   1. ]))"
      ]
     },
     "execution_count": 12,
     "metadata": {},
     "output_type": "execute_result"
    }
   ],
   "source": [
    "#null hypothesis - that this is a gaussian distribution\n",
    "st.anderson(zstatistic, 'norm')"
   ]
  },
  {
   "cell_type": "markdown",
   "metadata": {
    "collapsed": true
   },
   "source": [
    "Here, since the statistic of 0.216 is less than the critical value of 0.885 at siginificance level of 2.5%, null hypothesis that this is a gaussian distribution cannot be rejected."
   ]
  },
  {
   "cell_type": "code",
   "execution_count": null,
   "metadata": {
    "collapsed": true
   },
   "outputs": [],
   "source": []
  }
 ],
 "metadata": {
  "kernelspec": {
   "display_name": "PUI2016_Python2",
   "language": "python",
   "name": "pui2016_python2"
  },
  "language_info": {
   "codemirror_mode": {
    "name": "ipython",
    "version": 2
   },
   "file_extension": ".py",
   "mimetype": "text/x-python",
   "name": "python",
   "nbconvert_exporter": "python",
   "pygments_lexer": "ipython2",
   "version": "2.7.12"
  }
 },
 "nbformat": 4,
 "nbformat_minor": 0
}
