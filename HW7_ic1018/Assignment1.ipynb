{
 "cells": [
  {
   "cell_type": "markdown",
   "metadata": {},
   "source": [
    "# Revised version based on Federica's comments - performing the test for two months together"
   ]
  },
  {
   "cell_type": "code",
   "execution_count": 1,
   "metadata": {
    "collapsed": false
   },
   "outputs": [
    {
     "name": "stdout",
     "output_type": "stream",
     "text": [
      "Populating the interactive namespace from numpy and matplotlib\n"
     ]
    }
   ],
   "source": [
    "from __future__  import print_function, division\n",
    "import pylab as pl\n",
    "import pandas as pd\n",
    "import numpy as np\n",
    "import os\n",
    "import zipfile\n",
    "import io\n",
    "import urllib2  #the lib that handles the url stuff\n",
    "from scipy.stats import chi2_contingency\n",
    "\n",
    "\n",
    "#import matplotlib\n",
    "#import matplotlib.pyplot as plt\n",
    "%pylab inline\n",
    "\n",
    "if os.getenv ('PUI2016') is None:\n",
    "    print (\"Must set env variable PUI2016\")\n",
    "if os.getenv ('PUIDATA') is None:\n",
    "    print (\"Must set env variable PUI2016\")"
   ]
  },
  {
   "cell_type": "code",
   "execution_count": 2,
   "metadata": {
    "collapsed": false
   },
   "outputs": [
    {
     "data": {
      "text/plain": [
       "'/home/cusp/ic1018/PUIdata'"
      ]
     },
     "execution_count": 2,
     "metadata": {},
     "output_type": "execute_result"
    }
   ],
   "source": [
    "\n",
    "os.getenv('PUIDATA')"
   ]
  },
  {
   "cell_type": "code",
   "execution_count": 3,
   "metadata": {
    "collapsed": false
   },
   "outputs": [
    {
     "data": {
      "text/plain": [
       "'/home/cusp/ic1018/PUI2016'"
      ]
     },
     "execution_count": 3,
     "metadata": {},
     "output_type": "execute_result"
    }
   ],
   "source": [
    "os.getenv('PUI2016')"
   ]
  },
  {
   "cell_type": "code",
   "execution_count": 4,
   "metadata": {
    "collapsed": true
   },
   "outputs": [],
   "source": [
    "#filename = '{}-citibike-tripdata.zip'.format(201501)\n",
    "\n",
    "#accesszipfile"
   ]
  },
  {
   "cell_type": "code",
   "execution_count": 5,
   "metadata": {
    "collapsed": true
   },
   "outputs": [],
   "source": [
    "### A function to download the data: simple bash commands can be run by preceding them with !\n",
    "### but more complex command lines with variable arguments need to be build as strng and run with os.system\n",
    "### this code cell does a lot of things: looks for existing files, download a file if none is there, unzips it, moves it.\n",
    "\n",
    "def getCitiBikeCSV(datestring):\n",
    "    print (\"Downloading\", datestring)\n",
    "    ### First I will heck that it is not already there\n",
    "    if not os.path.isfile(os.getenv(\"PUIDATA\") + \"/\" + datestring + \"-citibike-tripdata.csv\"):\n",
    "        if os.path.isfile(datestring + \"-citibike-tripdata.csv\"):\n",
    "            # if in the current dir just move it\n",
    "            if os.system(\"mv \" + datestring + \"-citibike-tripdata.csv \" + os.getenv(\"PUIDATA\")):\n",
    "                print (\"Error moving file!, Please check!\")\n",
    "        #otherwise start looking for the zip file\n",
    "        else:\n",
    "            if not os.path.isfile(os.getenv(\"PUIDATA\") + \"/\" + datestring + \"-citibike-tripdata.zip\"):\n",
    "                if not os.path.isfile(datestring + \"-citibike-tripdata.zip\"):\n",
    "                    os.system(\"curl -O https://s3.amazonaws.com/tripdata/\" + datestring + \"-citibike-tripdata.zip\")\n",
    "                ###  To move it I use the os.system() functions to run bash commands with arguments\n",
    "                os.system(\"mv \" + datestring + \"-citibike-tripdata.zip \" + os.getenv(\"PUIDATA\"))\n",
    "            ### unzip the csv \n",
    "            os.system(\"unzip \" + os.getenv(\"PUIDATA\") + \"/\" + datestring + \"-citibike-tripdata.zip\")\n",
    "            ## NOTE: old csv citibike data had a different name structure. \n",
    "            if '2014' in datestring:\n",
    "                os.system(\"mv \" + datestring[:4] + '-' +  datestring[4:] + \n",
    "                          \"\\ -\\ Citi\\ Bike\\ trip\\ data.csv \" + datestring + \"-citibike-tripdata.csv\")\n",
    "            os.system(\"mv \" + datestring + \"-citibike-tripdata.csv \" + os.getenv(\"PUIDATA\"))\n",
    "    ### One final check:\n",
    "    if not os.path.isfile(os.getenv(\"PUIDATA\") + \"/\" + datestring + \"-citibike-tripdata.csv\"):\n",
    "        print (\"WARNING!!! something is wrong: the file is not there!\")\n",
    "\n",
    "    else:\n",
    "        print (\"file in place, you can continue\")\n",
    "    return pd.read_csv(os.getenv(\"PUIDATA\") + \"/\" + datestring + '-citibike-tripdata.csv')    "
   ]
  },
  {
   "cell_type": "code",
   "execution_count": 6,
   "metadata": {
    "collapsed": false
   },
   "outputs": [
    {
     "name": "stdout",
     "output_type": "stream",
     "text": [
      "Downloading 201503\n",
      "file in place, you can continue\n",
      "Downloading 201504\n",
      "file in place, you can continue\n"
     ]
    }
   ],
   "source": [
    "#Taking two months\n",
    "datestrings = ['201503','201504']\n",
    "df = pd.concat([\n",
    "     getCitiBikeCSV(datestring)\n",
    "    for datestring in datestrings\n",
    "]).reset_index(drop=True)\n"
   ]
  },
  {
   "cell_type": "code",
   "execution_count": 7,
   "metadata": {
    "collapsed": false
   },
   "outputs": [
    {
     "data": {
      "text/html": [
       "<div>\n",
       "<table border=\"1\" class=\"dataframe\">\n",
       "  <thead>\n",
       "    <tr style=\"text-align: right;\">\n",
       "      <th></th>\n",
       "      <th>tripduration</th>\n",
       "      <th>starttime</th>\n",
       "      <th>stoptime</th>\n",
       "      <th>start station id</th>\n",
       "      <th>start station name</th>\n",
       "      <th>start station latitude</th>\n",
       "      <th>start station longitude</th>\n",
       "      <th>end station id</th>\n",
       "      <th>end station name</th>\n",
       "      <th>end station latitude</th>\n",
       "      <th>end station longitude</th>\n",
       "      <th>bikeid</th>\n",
       "      <th>usertype</th>\n",
       "      <th>birth year</th>\n",
       "      <th>gender</th>\n",
       "    </tr>\n",
       "  </thead>\n",
       "  <tbody>\n",
       "    <tr>\n",
       "      <th>0</th>\n",
       "      <td>669</td>\n",
       "      <td>3/1/2015 0:00</td>\n",
       "      <td>3/1/2015 0:11</td>\n",
       "      <td>164</td>\n",
       "      <td>E 47 St &amp; 2 Ave</td>\n",
       "      <td>40.753231</td>\n",
       "      <td>-73.970325</td>\n",
       "      <td>477</td>\n",
       "      <td>W 41 St &amp; 8 Ave</td>\n",
       "      <td>40.756405</td>\n",
       "      <td>-73.990026</td>\n",
       "      <td>21409</td>\n",
       "      <td>Subscriber</td>\n",
       "      <td>1987.0</td>\n",
       "      <td>1</td>\n",
       "    </tr>\n",
       "    <tr>\n",
       "      <th>1</th>\n",
       "      <td>750</td>\n",
       "      <td>3/1/2015 0:01</td>\n",
       "      <td>3/1/2015 0:14</td>\n",
       "      <td>258</td>\n",
       "      <td>DeKalb Ave &amp; Vanderbilt Ave</td>\n",
       "      <td>40.689407</td>\n",
       "      <td>-73.968855</td>\n",
       "      <td>436</td>\n",
       "      <td>Hancock St &amp; Bedford Ave</td>\n",
       "      <td>40.682166</td>\n",
       "      <td>-73.953990</td>\n",
       "      <td>19397</td>\n",
       "      <td>Subscriber</td>\n",
       "      <td>1968.0</td>\n",
       "      <td>1</td>\n",
       "    </tr>\n",
       "    <tr>\n",
       "      <th>2</th>\n",
       "      <td>663</td>\n",
       "      <td>3/1/2015 0:01</td>\n",
       "      <td>3/1/2015 0:12</td>\n",
       "      <td>497</td>\n",
       "      <td>E 17 St &amp; Broadway</td>\n",
       "      <td>40.737050</td>\n",
       "      <td>-73.990093</td>\n",
       "      <td>477</td>\n",
       "      <td>W 41 St &amp; 8 Ave</td>\n",
       "      <td>40.756405</td>\n",
       "      <td>-73.990026</td>\n",
       "      <td>20998</td>\n",
       "      <td>Customer</td>\n",
       "      <td>NaN</td>\n",
       "      <td>0</td>\n",
       "    </tr>\n",
       "    <tr>\n",
       "      <th>3</th>\n",
       "      <td>480</td>\n",
       "      <td>3/1/2015 0:02</td>\n",
       "      <td>3/1/2015 0:10</td>\n",
       "      <td>470</td>\n",
       "      <td>W 20 St &amp; 8 Ave</td>\n",
       "      <td>40.743453</td>\n",
       "      <td>-74.000040</td>\n",
       "      <td>491</td>\n",
       "      <td>E 24 St &amp; Park Ave S</td>\n",
       "      <td>40.740964</td>\n",
       "      <td>-73.986022</td>\n",
       "      <td>21565</td>\n",
       "      <td>Subscriber</td>\n",
       "      <td>1983.0</td>\n",
       "      <td>1</td>\n",
       "    </tr>\n",
       "    <tr>\n",
       "      <th>4</th>\n",
       "      <td>1258</td>\n",
       "      <td>3/1/2015 0:02</td>\n",
       "      <td>3/1/2015 0:23</td>\n",
       "      <td>345</td>\n",
       "      <td>W 13 St &amp; 6 Ave</td>\n",
       "      <td>40.736494</td>\n",
       "      <td>-73.997044</td>\n",
       "      <td>473</td>\n",
       "      <td>Rivington St &amp; Chrystie St</td>\n",
       "      <td>40.721101</td>\n",
       "      <td>-73.991925</td>\n",
       "      <td>14693</td>\n",
       "      <td>Subscriber</td>\n",
       "      <td>1970.0</td>\n",
       "      <td>1</td>\n",
       "    </tr>\n",
       "  </tbody>\n",
       "</table>\n",
       "</div>"
      ],
      "text/plain": [
       "   tripduration      starttime       stoptime  start station id  \\\n",
       "0           669  3/1/2015 0:00  3/1/2015 0:11               164   \n",
       "1           750  3/1/2015 0:01  3/1/2015 0:14               258   \n",
       "2           663  3/1/2015 0:01  3/1/2015 0:12               497   \n",
       "3           480  3/1/2015 0:02  3/1/2015 0:10               470   \n",
       "4          1258  3/1/2015 0:02  3/1/2015 0:23               345   \n",
       "\n",
       "            start station name  start station latitude  \\\n",
       "0              E 47 St & 2 Ave               40.753231   \n",
       "1  DeKalb Ave & Vanderbilt Ave               40.689407   \n",
       "2           E 17 St & Broadway               40.737050   \n",
       "3              W 20 St & 8 Ave               40.743453   \n",
       "4              W 13 St & 6 Ave               40.736494   \n",
       "\n",
       "   start station longitude  end station id            end station name  \\\n",
       "0               -73.970325             477             W 41 St & 8 Ave   \n",
       "1               -73.968855             436    Hancock St & Bedford Ave   \n",
       "2               -73.990093             477             W 41 St & 8 Ave   \n",
       "3               -74.000040             491        E 24 St & Park Ave S   \n",
       "4               -73.997044             473  Rivington St & Chrystie St   \n",
       "\n",
       "   end station latitude  end station longitude  bikeid    usertype  \\\n",
       "0             40.756405             -73.990026   21409  Subscriber   \n",
       "1             40.682166             -73.953990   19397  Subscriber   \n",
       "2             40.756405             -73.990026   20998    Customer   \n",
       "3             40.740964             -73.986022   21565  Subscriber   \n",
       "4             40.721101             -73.991925   14693  Subscriber   \n",
       "\n",
       "   birth year  gender  \n",
       "0      1987.0       1  \n",
       "1      1968.0       1  \n",
       "2         NaN       0  \n",
       "3      1983.0       1  \n",
       "4      1970.0       1  "
      ]
     },
     "execution_count": 7,
     "metadata": {},
     "output_type": "execute_result"
    }
   ],
   "source": [
    "df.head()"
   ]
  },
  {
   "cell_type": "markdown",
   "metadata": {
    "collapsed": true
   },
   "source": [
    "# IDEA:\n",
    "## Customers are less likely to choose biking than subscribers for commuting.\n",
    "\n",
    "\n",
    "# REVISED HYPOTHESIS (based on Federica's comment)\n",
    "\n",
    "# NULL HYPOTHESIS:\n",
    "## The ratio of subscribers biking on weekends over total number of subscribers biking in a week is _the same_ or _higher_  than the ratio of customers biking over weekends to total number of customers biking in a week\n",
    "\n",
    "\n",
    "# _$H_0$_ : $\\frac{Customer_{\\mathrm{weekend}}}{Customer_{\\mathrm{total (week + weekend)}}} <= \\frac{Subscriber_{\\mathrm{weekend}}}{Subs_{\\mathrm{total (week + weekend)}}}$\n",
    "# _$H_1$_ : $\\frac{Customer_{\\mathrm{weekend}}}{Customer_{\\mathrm{total (week + weekend)}}} > \\frac{Subscriber_{\\mathrm{weekend}}}{Subscriber_{\\mathrm{total (week + weekend)}}}$\n",
    "\n",
    "or identically:\n",
    "\n",
    "# _$H_0$_ : $\\frac{Customer_{\\mathrm{weekend}}}{Customer_{\\mathrm{total (week + weekend)}}} - \\frac{Subscriber_{\\mathrm{weekend}}}{Subs_{\\mathrm{total (week + weekend)}}} <= 0 $\n",
    "# _$H_1$_ : $\\frac{Customer_{\\mathrm{weekend}}}{Customer_{\\mathrm{total (week + weekend)}}} - \\frac{Subscriber_{\\mathrm{weekend}}}{Subscriber_{\\mathrm{total (week + weekend)}}} > 0$\n",
    "## I will use a significance level  $\\alpha=0.05$\n",
    "\n",
    "\n",
    "\n",
    "\n",
    "#### which means i want the probability of getting a result at least as significant as mine to be less then 5%"
   ]
  },
  {
   "cell_type": "code",
   "execution_count": 8,
   "metadata": {
    "collapsed": false
   },
   "outputs": [
    {
     "data": {
      "text/html": [
       "<div>\n",
       "<table border=\"1\" class=\"dataframe\">\n",
       "  <thead>\n",
       "    <tr style=\"text-align: right;\">\n",
       "      <th></th>\n",
       "      <th>usertype</th>\n",
       "      <th>date</th>\n",
       "    </tr>\n",
       "  </thead>\n",
       "  <tbody>\n",
       "    <tr>\n",
       "      <th>0</th>\n",
       "      <td>Subscriber</td>\n",
       "      <td>2015-03-01 00:00:00</td>\n",
       "    </tr>\n",
       "    <tr>\n",
       "      <th>1</th>\n",
       "      <td>Subscriber</td>\n",
       "      <td>2015-03-01 00:01:00</td>\n",
       "    </tr>\n",
       "    <tr>\n",
       "      <th>2</th>\n",
       "      <td>Customer</td>\n",
       "      <td>2015-03-01 00:01:00</td>\n",
       "    </tr>\n",
       "    <tr>\n",
       "      <th>3</th>\n",
       "      <td>Subscriber</td>\n",
       "      <td>2015-03-01 00:02:00</td>\n",
       "    </tr>\n",
       "    <tr>\n",
       "      <th>4</th>\n",
       "      <td>Subscriber</td>\n",
       "      <td>2015-03-01 00:02:00</td>\n",
       "    </tr>\n",
       "  </tbody>\n",
       "</table>\n",
       "</div>"
      ],
      "text/plain": [
       "     usertype                date\n",
       "0  Subscriber 2015-03-01 00:00:00\n",
       "1  Subscriber 2015-03-01 00:01:00\n",
       "2    Customer 2015-03-01 00:01:00\n",
       "3  Subscriber 2015-03-01 00:02:00\n",
       "4  Subscriber 2015-03-01 00:02:00"
      ]
     },
     "execution_count": 8,
     "metadata": {},
     "output_type": "execute_result"
    }
   ],
   "source": [
    "# Drop any missing values and storing the data into new dataframe 'data'\n",
    "data = df.dropna(subset=['usertype', 'starttime']).copy()\n",
    "\n",
    "# Use starttime as the date\n",
    "data['date'] = pd.to_datetime(data['starttime'])\n",
    "\n",
    "# Take away all the other columns except 'date' and 'usertype'\n",
    "data.drop([\n",
    "        col for col in data.columns \n",
    "        if col not in ['date', 'usertype']\n",
    "], axis=1, inplace=True)\n",
    "\n",
    "data.head()"
   ]
  },
  {
   "cell_type": "code",
   "execution_count": 9,
   "metadata": {
    "collapsed": false
   },
   "outputs": [
    {
     "data": {
      "text/plain": [
       "<matplotlib.legend.Legend at 0x7ffc46b47310>"
      ]
     },
     "execution_count": 9,
     "metadata": {},
     "output_type": "execute_result"
    },
    {
     "data": {
      "image/png": "[encoded data removed]",
      "text/plain": [
       "<matplotlib.figure.Figure at 0x7ffc34097450>"
      ]
     },
     "metadata": {},
     "output_type": "display_data"
    }
   ],
   "source": [
    "fig = pl.figure(figsize(15,15))\n",
    "\n",
    "#instad of plotting with matplotlib i.e. plot() i use the plot method in pandas\n",
    "norm_w = 1\n",
    "((data['date'][data['usertype'] == 'Customer'].groupby([data['date'].dt.weekday]).count()) / norm_w).plot(kind=\"bar\", \n",
    "                                                                                         color='IndianRed', \n",
    "                                                                                         label='Customer')\n",
    "\n",
    "norm_m = 1\n",
    "ax = ((data['date'][data['usertype'] == 'Subscriber'].groupby([data['date'].dt.weekday]).count()) / norm_m).plot(kind=\"bar\", \n",
    "                                                                                              color='SteelBlue', \n",
    "                                                                                              alpha=0.5,\n",
    "                                                                                              label='Subscriber')\n",
    "\n",
    "tmp = ax.xaxis.set_ticklabels(['Mon', 'Tue', 'Wed', 'Thu', 'Fri', 'Sat', 'Sun'], fontsize=20)\n",
    "pl.title('Distribution of Citi Bike users by user type in January 2015')\n",
    "\n",
    "pl.legend()"
   ]
  },
  {
   "cell_type": "markdown",
   "metadata": {},
   "source": [
    "## Figure 1a: Distribution of Citibike bikers by usertype in March & April 2015, absolute counts"
   ]
  },
  {
   "cell_type": "markdown",
   "metadata": {},
   "source": [
    "The following figure shows that there are more number of subscribers riding the bike than the customers over the course of an entire week. There is a sudden peak at Wednesday for subscribers, after which it starts to decrease. However for the customers,  there is increase in the number over the weekend."
   ]
  },
  {
   "cell_type": "code",
   "execution_count": 10,
   "metadata": {
    "collapsed": false
   },
   "outputs": [
    {
     "data": {
      "text/plain": [
       "<matplotlib.legend.Legend at 0x7ffbba6b5c10>"
      ]
     },
     "execution_count": 10,
     "metadata": {},
     "output_type": "execute_result"
    },
    {
     "data": {
      "image/png": "[encoded data removed]",
      "text/plain": [
       "<matplotlib.figure.Figure at 0x7ffbba80d6d0>"
      ]
     },
     "metadata": {},
     "output_type": "display_data"
    }
   ],
   "source": [
    "fig=pl.figure(figsize(15,10))\n",
    "\n",
    "counts_c = data.date[data.usertype == 'Customer'].groupby([data.date.dt.weekday]).count()\n",
    "norm_c = 1\n",
    "error_c = np.sqrt(counts_c)\n",
    "ax=((counts_c) / norm_c).plot(kind=\"bar\",color='IndianRed',  yerr=[\n",
    "            ((error_c) / norm_c, (error_c) / norm_c)], label='Customer bikers')\n",
    "\n",
    "\n",
    "counts_s = data.date[data.usertype==\"Subscriber\"].groupby([data.date.dt.weekday]).count()\n",
    "norm_s = 1\n",
    "error_s=np.sqrt(counts_s)\n",
    "((counts_s) / norm_s).plot(kind=\"bar\", alpha=0.5, yerr=[((error_s) / norm_s, (error_s) / norm_s)], \n",
    "                           color='SteelBlue', label='Subscriber bikers')\n",
    "ax.xaxis.set_ticklabels(['Mon','Tue','Wed','Thu','Fri','Sat','Sun'], fontsize=20)\n",
    "ax.set_ylabel (\"Number of rides\")\n",
    "ax.set_xlabel (\"Day of the week\")\n",
    "pl.title('Distribution of Citi Bike users by user type in January 2015 with statistical errors')\n",
    "\n",
    "pl.legend(['Customer bikers','Subscriber bikers'],fontsize=20)"
   ]
  },
  {
   "cell_type": "markdown",
   "metadata": {},
   "source": [
    "## Figure 1b: Distribution of Citibike bikers by usertype in March & April 2015, absolute counts, with statistical errors"
   ]
  },
  {
   "cell_type": "markdown",
   "metadata": {},
   "source": [
    "This plot shows the same information as Figure 1a, with statistical error bars added. The error bars look disproportionate because the overall magnitude of counts differs between the two user types."
   ]
  },
  {
   "cell_type": "code",
   "execution_count": 11,
   "metadata": {
    "collapsed": false
   },
   "outputs": [
    {
     "data": {
      "text/plain": [
       "<matplotlib.legend.Legend at 0x7ffbba80db50>"
      ]
     },
     "execution_count": 11,
     "metadata": {},
     "output_type": "execute_result"
    },
    {
     "data": {
      "image/png": "[encoded data removed]",
      "text/plain": [
       "<matplotlib.figure.Figure at 0x7ffbbb3a8d50>"
      ]
     },
     "metadata": {},
     "output_type": "display_data"
    }
   ],
   "source": [
    "#difficult to compare absolute numbers, normalise the distribution of subscibers and customers \n",
    "\n",
    "fig = pl.figure(figsize(15,10))\n",
    "\n",
    "norm_c = counts_c.sum()\n",
    "error_c = np.sqrt(counts_c)\n",
    "((counts_c) / norm_c).plot(kind=\"bar\", color='IndianRed',  \n",
    "                           yerr=[((error_c) / norm_c, (error_c) / norm_c)], \n",
    "                           label='customer bikers')\n",
    "\n",
    "norm_s = counts_s.sum()\n",
    "ax = ((counts_s) / norm_s).plot(kind=\"bar\", alpha=0.5, \n",
    "                                yerr=[((error_s) / norm_s, (error_s) / norm_s)], \n",
    "                                color='SteelBlue', label='subscriber bikers')\n",
    "\n",
    "ax.xaxis.set_ticklabels(['Mon', 'Tue', 'Wed', 'Thu', 'Fri', 'Sat', 'Sun'], fontsize=20)\n",
    "ax.set_ylabel (\"Fraction of rides\")\n",
    "ax.set_xlabel (\"Day of the week\")\n",
    "plt.title('Normalized distribution of Citi Bike usage by user type in January 2015')\n",
    "\n",
    "pl.legend(['customers bikers','subscriber bikers'],fontsize=20)\n"
   ]
  },
  {
   "cell_type": "markdown",
   "metadata": {},
   "source": [
    "# Figure 2: Normalized distribution of Citi Bike users by user type in March & April 2015"
   ]
  },
  {
   "cell_type": "markdown",
   "metadata": {},
   "source": [
    "This plot shows the same information as Figures 1a and 1b, except the counts are normalized by their overall count.  This shows that proportionally, subscribers bike more at the beginning of the week whereas customers bike more during the weekend.\n"
   ]
  },
  {
   "cell_type": "code",
   "execution_count": 12,
   "metadata": {
    "collapsed": false
   },
   "outputs": [
    {
     "name": "stdout",
     "output_type": "stream",
     "text": [
      "Subscribers: week:0.804, weekend:0.196, weekend error:0.001, weekend error:0.000\n",
      "Customers: week:0.511, weekend:0.489, weekend error:0.003, weekend error:0.002\n"
     ]
    },
    {
     "data": {
      "image/png": "[encoded data removed]",
      "text/plain": [
       "<matplotlib.figure.Figure at 0x7ffbba607bd0>"
      ]
     },
     "metadata": {},
     "output_type": "display_data"
    }
   ],
   "source": [
    "fig = plt.figure(figsize=(15,6))\n",
    "ax1 = fig.add_subplot(121)\n",
    "ax2 = fig.add_subplot(122)\n",
    "\n",
    "week_c = sum(counts_c[:-2]) * 1.0 / norm_c  #fraction of customers riding on week days\n",
    "weekend_c = sum(counts_c[-2:]) * 1.0 / norm_c  #fraction of customers riding on weekends\n",
    "eweek_c = np.sqrt(sum(counts_c[:-2])) / norm_c  #error on week_c (sum squared errors where errors are poisson)\n",
    "eweekend_c = np.sqrt(sum(counts_c[-2:])) / norm_c #error on weekend_c\n",
    "\n",
    "#same nomenclature as above for subscribers\n",
    "week_s = sum(counts_s[:-2]) * 1. / norm_s\n",
    "weekend_s = sum(counts_s[-2:]) * 1. / norm_s\n",
    "eweek_s = np.sqrt(sum(counts_s[:-2])) / norm_s\n",
    "eweekend_s = np.sqrt(sum(counts_s[-2:])) / norm_s\n",
    "\n",
    "print(\"Subscribers: week:{0:.3f}, weekend:{1:.3f}, weekend error:{2:.3f}, weekend error:{3:.3f}\"\\\n",
    "      .format(week_s, weekend_s, eweek_s, eweekend_s))\n",
    "print(\"Customers: week:{0:.3f}, weekend:{1:.3f}, weekend error:{2:.3f}, weekend error:{3:.3f}\"\\\n",
    "      .format(week_c, weekend_c, eweek_c, eweekend_c))\n",
    "\n",
    "ax1.errorbar([0], [week_s], yerr=[eweek_s], fmt='o', label='subscribers')\n",
    "ax1.errorbar([1], [week_c], yerr=[eweek_c], fmt='o', label='customers')\n",
    "ax2.errorbar([0], [weekend_s], yerr=[eweekend_s], fmt='o', label='subscribers')\n",
    "ax2.errorbar([1], [weekend_c], yerr=[eweekend_c], fmt='o', label='customers')\n",
    "ax1.set_xlim(-1, 2)\n",
    "ax2.set_xlim(-1, 2)\n",
    "ax1.set_xticks([0, 1])\n",
    "ax2.set_xticks([0, 1])\n",
    "ax1.set_xticklabels(['subscribers', 'customers'])\n",
    "ax2.set_xticklabels(['subscribers', 'customers'])\n",
    "ax1.set_title(\"week days\")\n",
    "ax2.set_title(\"weekends\")\n",
    "ax1.set_ylabel(\"Fraction of normalized rides by user type\")\n",
    "ax2.set_ylabel(\"Fraction of normalized rides by user type\");"
   ]
  },
  {
   "cell_type": "markdown",
   "metadata": {},
   "source": [
    "# Figure 3: Fraction of Citibike bikers per user type in March and April 2015 for week days (left) and weekends (right)\n"
   ]
  },
  {
   "cell_type": "markdown",
   "metadata": {},
   "source": [
    "This plot shows the comparison of normalized counts for user type over the week and the weekend respectively. This plot makes it clear that the distribution of subscribers lies towards the week whereas the distribution of customers lies towards the weekend."
   ]
  },
  {
   "cell_type": "code",
   "execution_count": 13,
   "metadata": {
    "collapsed": false
   },
   "outputs": [
    {
     "name": "stdout",
     "output_type": "stream",
     "text": [
      "difference between customers and subscribers weekend to total ratio: 0.2934\n",
      "We must check the significance before we reject the Null Hypothesis\n"
     ]
    }
   ],
   "source": [
    "#Checking the hypothesis\n",
    "P0mP1 = (weekend_c / (week_c + weekend_c)) - (weekend_s / (week_s + weekend_s))\n",
    "print (\"difference between customers and subscribers weekend to total ratio: {:.4f}\".format(P0mP1))\n",
    "if P0mP1 <= 0:\n",
    "    # we are done...\n",
    "    print(\"In accordance with Null Hypothesis\")\n",
    "else:\n",
    "    # morework to do\n",
    "    print (\"We must check the significance before we reject the Null Hypothesis\")"
   ]
  },
  {
   "cell_type": "markdown",
   "metadata": {},
   "source": [
    "The ratio doesn't seem very high."
   ]
  },
  {
   "cell_type": "markdown",
   "metadata": {},
   "source": [
    "# Is this difference statistically significant?\n"
   ]
  },
  {
   "cell_type": "code",
   "execution_count": 14,
   "metadata": {
    "collapsed": false
   },
   "outputs": [
    {
     "name": "stdout",
     "output_type": "stream",
     "text": [
      "chi-squared: 1.211, p-value: 0.271188832933\n"
     ]
    },
    {
     "data": {
      "text/html": [
       "<div>\n",
       "<table border=\"1\" class=\"dataframe\">\n",
       "  <thead>\n",
       "    <tr style=\"text-align: right;\">\n",
       "      <th></th>\n",
       "      <th>Customers</th>\n",
       "      <th>Subscribers</th>\n",
       "    </tr>\n",
       "  </thead>\n",
       "  <tbody>\n",
       "    <tr>\n",
       "      <th>Total</th>\n",
       "      <td>1.000000</td>\n",
       "      <td>1.000000</td>\n",
       "    </tr>\n",
       "    <tr>\n",
       "      <th>Weekend</th>\n",
       "      <td>0.489464</td>\n",
       "      <td>0.196071</td>\n",
       "    </tr>\n",
       "  </tbody>\n",
       "</table>\n",
       "</div>"
      ],
      "text/plain": [
       "         Customers  Subscribers\n",
       "Total     1.000000     1.000000\n",
       "Weekend   0.489464     0.196071"
      ]
     },
     "execution_count": 14,
     "metadata": {},
     "output_type": "execute_result"
    }
   ],
   "source": [
    "contingency_table = pd.DataFrame([\n",
    "    [weekend_c+ week_c, weekend_s + week_s],\n",
    "    [weekend_c, weekend_s]\n",
    "], columns=['Customers', 'Subscribers'], index=['Total', 'Weekend'])\n",
    "\n",
    "print('chi-squared: {:.3f}, p-value: {}'.format(*chi2_contingency(contingency_table.values)[:2]))\n",
    "contingency_table"
   ]
  },
  {
   "cell_type": "markdown",
   "metadata": {},
   "source": [
    "The p-value returned by the chi-squared test is not below the significance threshold of 0.05, showing that the null hypothesis cannot be rejected."
   ]
  },
  {
   "cell_type": "markdown",
   "metadata": {},
   "source": [
    "# Test of Robustness - considering fri as weekend"
   ]
  },
  {
   "cell_type": "code",
   "execution_count": 15,
   "metadata": {
    "collapsed": false
   },
   "outputs": [
    {
     "name": "stdout",
     "output_type": "stream",
     "text": [
      "Subscribers: week:0.679, weekend:0.321, weekend error:0.001, weekend error:0.001\n",
      "Customers: week:0.438, weekend:0.562, weekend error:0.002, weekend error:0.003\n"
     ]
    },
    {
     "data": {
      "image/png": "[encoded data removed]",
      "text/plain": [
       "<matplotlib.figure.Figure at 0x7ffbba817750>"
      ]
     },
     "metadata": {},
     "output_type": "display_data"
    }
   ],
   "source": [
    "fig = plt.figure(figsize=(15,6))\n",
    "ax1 = fig.add_subplot(121)\n",
    "ax2 = fig.add_subplot(122)\n",
    "\n",
    "week_c = sum(counts_c[:-3]) * 1.0 / norm_c  #fraction of customers riding on week days\n",
    "weekend_fri_c = sum(counts_c[-3:]) * 1.0 / norm_c  #fraction of customers riding on weekends\n",
    "eweek_c = np.sqrt(sum(counts_c[:-3])) / norm_c  #error on week_c (sum squared errors where errors are poisson)\n",
    "eweekend_fri_c = np.sqrt(sum(counts_c[-3:])) / norm_c #error on weekend_c\n",
    "\n",
    "#same nomenclature as above for subscribers\n",
    "week_s = sum(counts_s[:-3]) * 1. / norm_s\n",
    "weekend_fri_s = sum(counts_s[-3:]) * 1. / norm_s\n",
    "eweek_s = np.sqrt(sum(counts_s[:-3])) / norm_s\n",
    "eweekend_fri_s = np.sqrt(sum(counts_s[-3:])) / norm_s\n",
    "\n",
    "print(\"Subscribers: week:{0:.3f}, weekend:{1:.3f}, weekend error:{2:.3f}, weekend error:{3:.3f}\"\\\n",
    "      .format(week_s, weekend_fri_s, eweek_s, eweekend_fri_s))\n",
    "print(\"Customers: week:{0:.3f}, weekend:{1:.3f}, weekend error:{2:.3f}, weekend error:{3:.3f}\"\\\n",
    "      .format(week_c, weekend_fri_c, eweek_c, eweekend_fri_c))\n",
    "\n",
    "ax1.errorbar([0], [week_s], yerr=[eweek_s], fmt='o', label='subscribers')\n",
    "ax1.errorbar([1], [week_c], yerr=[eweek_c], fmt='o', label='customers')\n",
    "ax2.errorbar([0], [weekend_fri_s], yerr=[eweekend_fri_s], fmt='o', label='subscribers')\n",
    "ax2.errorbar([1], [weekend_fri_c], yerr=[eweekend_fri_c], fmt='o', label='customers')\n",
    "ax1.set_xlim(-1, 2)\n",
    "ax2.set_xlim(-1, 2)\n",
    "ax1.set_xticks([0, 1])\n",
    "ax2.set_xticks([0, 1])\n",
    "ax1.set_xticklabels(['subscribers', 'customers'])\n",
    "ax2.set_xticklabels(['subscribers', 'customers'])\n",
    "ax1.set_title(\"week days\")\n",
    "ax2.set_title(\"weekends\")\n",
    "ax1.set_ylabel(\"Fraction of normalized rides by user type\")\n",
    "ax2.set_ylabel(\"Fraction of normalized rides by user type\");"
   ]
  },
  {
   "cell_type": "markdown",
   "metadata": {},
   "source": [
    "This plot shows the comparison of normalized counts for user type over the week and the weekend (considering that friday is a weekend also) respectively. This plot makes it clear that the distribution of subscribers lies towards the week whereas the distribution of customers lies towards the weekend. The fraction values of normalized rides by user type has decreased for subscribers for weekdays and overall and increased for customers for weekend and overall, as compared to the fraction values of normalized rides by user type in Figure 4."
   ]
  },
  {
   "cell_type": "markdown",
   "metadata": {},
   "source": [
    "# Figure 4: Fraction of Citibike bikers per user type in March and April 2015 for week days (left) and weekends (right)"
   ]
  },
  {
   "cell_type": "code",
   "execution_count": 16,
   "metadata": {
    "collapsed": false
   },
   "outputs": [
    {
     "name": "stdout",
     "output_type": "stream",
     "text": [
      "difference between customers and subscribers weekend to week ratio: 0.2415\n",
      "We must check the significance before we reject the Null Hypothesis\n"
     ]
    }
   ],
   "source": [
    "#Checking the hypothesis\n",
    "P0mP1 = (weekend_fri_c / (week_c + weekend_fri_c)) - (weekend_fri_s / (week_s + weekend_fri_s))\n",
    "print (\"difference between customers and subscribers weekend to week ratio: {:.4f}\".format(P0mP1))\n",
    "if P0mP1 <= 0:\n",
    "    # we are done...\n",
    "    print(\"In accordance with Null Hypothesis\")\n",
    "else:\n",
    "    # morework to do\n",
    "    print (\"We must check the significance before we reject the Null Hypothesis\")"
   ]
  },
  {
   "cell_type": "markdown",
   "metadata": {},
   "source": [
    "Here the difference has decreased as compared to the previous case, when friday was not considered to be part of the weekend."
   ]
  },
  {
   "cell_type": "markdown",
   "metadata": {},
   "source": [
    "# Is this difference statistically significant?"
   ]
  },
  {
   "cell_type": "code",
   "execution_count": 17,
   "metadata": {
    "collapsed": false
   },
   "outputs": [
    {
     "name": "stdout",
     "output_type": "stream",
     "text": [
      "chi-squared: 1.139, p-value: 0.285776829619\n"
     ]
    },
    {
     "data": {
      "text/html": [
       "<div>\n",
       "<table border=\"1\" class=\"dataframe\">\n",
       "  <thead>\n",
       "    <tr style=\"text-align: right;\">\n",
       "      <th></th>\n",
       "      <th>Customers</th>\n",
       "      <th>Subscribers</th>\n",
       "    </tr>\n",
       "  </thead>\n",
       "  <tbody>\n",
       "    <tr>\n",
       "      <th>Total</th>\n",
       "      <td>1.000000</td>\n",
       "      <td>1.000000</td>\n",
       "    </tr>\n",
       "    <tr>\n",
       "      <th>Weekend(including friday)</th>\n",
       "      <td>0.562152</td>\n",
       "      <td>0.320604</td>\n",
       "    </tr>\n",
       "  </tbody>\n",
       "</table>\n",
       "</div>"
      ],
      "text/plain": [
       "                           Customers  Subscribers\n",
       "Total                       1.000000     1.000000\n",
       "Weekend(including friday)   0.562152     0.320604"
      ]
     },
     "execution_count": 17,
     "metadata": {},
     "output_type": "execute_result"
    }
   ],
   "source": [
    "contingency_table = pd.DataFrame([\n",
    "    [weekend_fri_c+ week_c, weekend_fri_s + week_s],\n",
    "    [weekend_fri_c, weekend_fri_s]\n",
    "], columns=['Customers', 'Subscribers'], index=['Total', 'Weekend(including friday)'])\n",
    "\n",
    "print('chi-squared: {:.3f}, p-value: {}'.format(*chi2_contingency(contingency_table.values)[:2]))\n",
    "contingency_table"
   ]
  },
  {
   "cell_type": "markdown",
   "metadata": {},
   "source": [
    "The p-value returned by the chi-squared test is not below the significance threshold of 0.05, showing that the null hypothesis cannot be rejected."
   ]
  },
  {
   "cell_type": "code",
   "execution_count": null,
   "metadata": {
    "collapsed": true
   },
   "outputs": [],
   "source": []
  }
 ],
 "metadata": {
  "kernelspec": {
   "display_name": "PUI2016_Python2",
   "language": "python",
   "name": "pui2016_python2"
  },
  "language_info": {
   "codemirror_mode": {
    "name": "ipython",
    "version": 2
   },
   "file_extension": ".py",
   "mimetype": "text/x-python",
   "name": "python",
   "nbconvert_exporter": "python",
   "pygments_lexer": "ipython2",
   "version": "2.7.12"
  }
 },
 "nbformat": 4,
 "nbformat_minor": 0
}
